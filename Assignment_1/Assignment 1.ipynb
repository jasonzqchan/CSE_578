{
 "cells": [
  {
   "cell_type": "markdown",
   "metadata": {},
   "source": [
    "# Assignment 1: Dino Fun World\n",
    "\n",
    "### Assignment Description\n",
    "\n",
    "You, in your role as a data explorer and visualizer, have been asked by the administrators of a small amusement park in your hometown to answer a few questions about their park operations. The dataset that they provided for you to perform the requested analysis includes the movement and communication data captured from the park attendees' apps during one weekend (Friday, Saturday, and Sunday).\n",
    "\n",
    "The administrators would like you to answer four relatively simple questions about the park activities on the day in question. These questions all deal with park operations and can be answered using the data provided.\n",
    "* **Question 1:** What is the most popular attraction to visit in the park?\n",
    "\n",
    "\n",
    "* **Question 2:** What ride (note that not all attractions are rides) has the second longest average visit time?\n",
    "\n",
    "\n",
    "* **Question 3:** Which Fast Food offering has the fewest visitors?\n",
    "\n",
    "\n",
    "* **Question 4:** Compute the Skyline of number of visits and visit time for the park's ride, and report the rides that appear in the Skyline. (Note: Your answer should be three points, which can be given in any order.)\n",
    "\n",
    "\n",
    "### Directions\n",
    "\n",
    "The database provided by the park administration is formatted to be readable by any SQL database library. The course staff recommends the sqlite3 library. The database contains three tables, named 'checkin', 'attractions', and 'sequences'. The database file is named 'dinofunworld.db' and is available in the read only directory of the Jupyter Notebook environment (i.e., readonly/dinofunworld.db). It can also be accessed by selecting File > Open > readonly/dinofunworld.db.\n",
    "\n",
    "The information contained in each of these tables is listed below:\n",
    "\n",
    "`checkin`:\n",
    "    - The check-in data for all visitors for the day in the park. The data includes two types of check-ins: inferred and actual checkins.\n",
    "    - Fields: visitorID, timestamp, attraction, duration, type\n",
    "`attraction`:\n",
    "    - The attractions in the park by their corresponding AttractionID, Name, Region, Category, and type. Regions are from the VAST Challenge map such as Coaster Alley, Tundra Land, etc. Categories include Thrill rides, Kiddie Rides, etc. Type is broken into Outdoor Coaster, Other Ride, Carousel, etc.\n",
    "    - Fields: AttractionID, Name, Region, Category, type\n",
    "`sequences`:\n",
    "    - The check-in sequences of visitors. These sequences list the position of each visitor to the park every five minutes. If the visitor has not entered the part yet, the sequence has a value of 0 for that time interval. If the visitor is in the park, the sequence lists the attraction they have most recently checked in to until they check in to a new one or leave the park.\n",
    "    - Fields: visitorID, sequence\n",
    "    \n",
    "Using the provided data, answer the four questions that the administrators have asked.\n",
    "\n",
    "### Submission Directions for Assignment Deliverables\n",
    "\n",
    "This assignment will be auto-graded. We recommend that you submit this assignment. In order for your answers to be correctly registered in the system, you must place the code for your answers in the cell indicated for each question. In addition, you should submit the assignment with the output of the code in the cell's display area. The display area should contain only your answer to the question with no extraneous information, or else the answer may not be picked up correctly. \n",
    "\n",
    "Each cell that is going to be graded has a set of comment lines at the beginning of the cell. These lines are extremely important and must not be modified or removed. (Graded Cell and PartID comments must be in the same line for proper execution of code.)\n",
    "\n",
    "Please execute each cell in Jupyter Notebook before submitting.\n",
    "\n",
    "**NOTE:**  For each question, be sure to add your code in the exact cell that has the comment ```\"# Graded Cell, PartID:______\"```. If you add extra cells or split your code up into multiple cells, ensure you are adding your output print( ) statement in the cell containing the comment with regard to each question.\n",
    "\n",
    "\n",
    "**NOTE:**  If you lose the partId that is mentioned in the first line of each cell with regard to each question, use the syntax described below to add it.\n",
    "* Question 1: # Graded Cell, PartID : NDnou \n",
    "* Question 2: # Graded Cell, PartID : FXGHp\n",
    "* Question 3: # Graded Cell, PartID : KALua\n",
    "* Question 4: # Graded Cell, PartID : B0LUP\n"
   ]
  },
  {
   "cell_type": "markdown",
   "metadata": {},
   "source": [
    "### Question 1: \n",
    "What is the most popular attraction to visit in the park?\n",
    "\n",
    "**Note:** Your output should be the name of the attraction."
   ]
  },
  {
   "cell_type": "code",
   "execution_count": 2,
   "metadata": {
    "scrolled": false
   },
   "outputs": [
    {
     "name": "stdout",
     "output_type": "stream",
     "text": [
      "Atmosfear\n"
     ]
    }
   ],
   "source": [
    "# Graded Cell, PartID: NDnou\n",
    "# your code here\n",
    "import pandas as pd\n",
    "import sqlite3 as sql\n",
    "import math\n",
    "\n",
    "\n",
    "connection = sql.connect(\"readonly/dinofunworld.db\")\n",
    "db = connection.cursor()\n",
    "\n",
    "q1 = \"select attraction, count(*) as count from checkin group by attraction order by count desc;\"\n",
    "data = db.execute(q1)\n",
    "\n",
    "\n",
    "attraction = data.fetchall()[0][0]\n",
    "q1_res = \"select name from attraction where attractionID = {a};\".format(a = attraction)\n",
    "\n",
    "res = db.execute(q1_res).fetchone()[0]\n",
    "print(res)\n"
   ]
  },
  {
   "cell_type": "markdown",
   "metadata": {},
   "source": [
    "### Question 2: \n",
    "\n",
    "What ride (note that not all attractions are rides) has the second longest average visit time?\n",
    "\n",
    "**Note:** Your output should be the name of the ride.\n"
   ]
  },
  {
   "cell_type": "code",
   "execution_count": 4,
   "metadata": {},
   "outputs": [
    {
     "name": "stdout",
     "output_type": "stream",
     "text": [
      "Flight of the Swingodon\n"
     ]
    }
   ],
   "source": [
    "# Graded Cell, PartID: FXGHp\n",
    "# your code here\n",
    "\n",
    "connection = sql.connect(\"readonly/dinofunworld.db\")\n",
    "df = pd.read_sql_query(\"select * from checkin\", connection)\n",
    "# print(df.head())\n",
    "\n",
    "df['duration_seconds'] = pd.to_timedelta(df['duration']).dt.total_seconds()\n",
    "check_df = df[['attraction','duration_seconds']]\n",
    "\n",
    "# print(check_df.head())\n",
    "\n",
    "att_df = pd.read_sql_query(\"select * from attraction where Category like '%Ride%';\", connection)\n",
    "att_df = att_df[['AttractionID','Name']]\n",
    "res_df = pd.merge(check_df,att_df,left_on = ['attraction'],right_on = 'AttractionID')\n",
    "\n",
    "mean = res_df.groupby('Name', as_index=False)['duration_seconds'].mean()\n",
    "res = mean.sort_values(by='duration_seconds', ascending=False)\n",
    "\n",
    "print(res.iloc[1, 0])"
   ]
  },
  {
   "cell_type": "markdown",
   "metadata": {},
   "source": [
    "### Question 3:\n",
    "\n",
    "Which Fast Food offering in the park has the fewest visitors?\n",
    "\n",
    "**Note:** Your output should be the name of the fast food offering."
   ]
  },
  {
   "cell_type": "code",
   "execution_count": 6,
   "metadata": {},
   "outputs": [
    {
     "name": "stdout",
     "output_type": "stream",
     "text": [
      "Theresaur Food Stop\n"
     ]
    }
   ],
   "source": [
    "# Graded Cell, PartID: KALua\n",
    "# your code here\n",
    "connection = sql.connect(\"readonly/dinofunworld.db\")\n",
    "check_df = pd.read_sql_query(\"select * from checkin\", connection)\n",
    "att_df = pd.read_sql_query(\"select * from attraction where type like '%Fast Food%'\", connection)\n",
    "\n",
    "left = check_df[['visitorID', 'attraction']]\n",
    "right = att_df[['Name', 'AttractionID']]\n",
    "\n",
    "merge_df = pd.merge(left, right, left_on = ['attraction'], right_on = ['AttractionID'])\n",
    "res = merge_df.groupby('Name').size().reset_index(name = 'count').sort_values(by = 'count',ascending = True)\n",
    "print(res.iloc[0,0])"
   ]
  },
  {
   "cell_type": "markdown",
   "metadata": {},
   "source": [
    "### Question 4:\n",
    "\n",
    "Compute the Skyline of number of visits and visit time for the park's ride and report the rides that appear in the Skyline. \n",
    "\n",
    "**Note:** Remember that in this case, higher visits is better and lower visit times are better. Your output should be formatted as a list of names of the rides in the Skyline. Your output should be three points, which can be given in any order(example output : ['Ride 1','Ride 2','Ride 3'] )\n"
   ]
  },
  {
   "cell_type": "code",
   "execution_count": 8,
   "metadata": {},
   "outputs": [
    {
     "name": "stdout",
     "output_type": "stream",
     "text": [
      "['Wrightiraptor Mountain', 'Atmosfear', 'Dykesadactyl Thrill']\n"
     ]
    }
   ],
   "source": [
    "# Graded Cell, PartID: B0LUP\n",
    "# your code here\n",
    "connection = sql.connect(\"readonly/dinofunworld.db\")\n",
    "df = pd.read_sql_query(\n",
    "    \"select attraction, count(*) as count from checkin where attraction in (select AttractionID from attraction where lower(Category) like '%ride%') group by attraction;\"\n",
    "    ,connection)\n",
    "# print(df)\n",
    "\n",
    "duration_df = pd.read_sql_query(\"select attraction, duration from checkin;\",connection)\n",
    "duration_df['duration'] = pd.to_timedelta(duration_df['duration']).dt.total_seconds()\n",
    "mean_df = duration_df.groupby(by=[\"attraction\"],as_index=False).mean()\n",
    "\n",
    "highest_visit = 0\n",
    "lower_time = math.inf\n",
    "best_list = [0,0,math.inf]\n",
    "\n",
    "for id in df['attraction'].tolist():\n",
    "    mean = mean_df.loc[mean_df['attraction'] == id,'duration'].iloc[0]\n",
    "    count = df.loc[df['attraction'] == id, 'count'].iloc[0]\n",
    "    \n",
    "    if mean < lower_time:\n",
    "        best_id = id\n",
    "        lower_time = mean\n",
    "    if count > highest_visit:\n",
    "        highest_id = id\n",
    "        highest_visit = count\n",
    "    if mean < best_list[2] and count > best_list[1]:\n",
    "        best_list = (id,count, mean)\n",
    "        \n",
    "\n",
    "res_list = pd.read_sql_query(\"select Name from attraction where AttractionID = {a} or AttractionID = {b} or AttractionID = {c};\".format(a = best_id, b = highest_id, c = best_list[0] ),connection)\n",
    "res = res_list['Name'].values.tolist()\n",
    "print(res)\n",
    "        \n"
   ]
  },
  {
   "cell_type": "code",
   "execution_count": null,
   "metadata": {},
   "outputs": [],
   "source": []
  }
 ],
 "metadata": {
  "kernelspec": {
   "display_name": "base",
   "language": "python",
   "name": "python3"
  },
  "language_info": {
   "codemirror_mode": {
    "name": "ipython",
    "version": 3
   },
   "file_extension": ".py",
   "mimetype": "text/x-python",
   "name": "python",
   "nbconvert_exporter": "python",
   "pygments_lexer": "ipython3",
   "version": "3.9.7 (default, Sep 16 2021, 08:50:36) \n[Clang 10.0.0 ]"
  },
  "vscode": {
   "interpreter": {
    "hash": "4d6e051f77dd69456b13437bc28fbf58c905657f46449af79eaaeade01d93cd1"
   }
  }
 },
 "nbformat": 4,
 "nbformat_minor": 2
}
